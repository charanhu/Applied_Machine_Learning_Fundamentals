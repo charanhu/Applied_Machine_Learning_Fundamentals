{
 "cells": [
  {
   "cell_type": "markdown",
   "metadata": {},
   "source": [
    "# Python Strings\n",
    "Defination: A string is a sequence of characters. Strings are immutable. Strings are enclosed in single quotes or double quotes."
   ]
  },
  {
   "cell_type": "markdown",
   "metadata": {},
   "source": [
    "## Creating a string\n",
    "We can create a string by enclosing characters in quotes. Python treats single quotes the same as double quotes."
   ]
  },
  {
   "cell_type": "code",
   "execution_count": 1,
   "metadata": {},
   "outputs": [
    {
     "name": "stdout",
     "output_type": "stream",
     "text": [
      "Hello World\n"
     ]
    }
   ],
   "source": [
    "# Example 1\n",
    "str1 = 'Hello World'\n",
    "print(str1)"
   ]
  },
  {
   "cell_type": "markdown",
   "metadata": {},
   "source": [
    "## Assigning a string\n",
    "Defination: Assigning a string to a variable is called string assignment."
   ]
  },
  {
   "cell_type": "code",
   "execution_count": 2,
   "metadata": {},
   "outputs": [
    {
     "name": "stdout",
     "output_type": "stream",
     "text": [
      "Hello World\n"
     ]
    }
   ],
   "source": [
    "# Example 2\n",
    "str2 = \"Hello World\"\n",
    "print(str2)"
   ]
  },
  {
   "cell_type": "markdown",
   "metadata": {},
   "source": [
    "## Multiline Strings\n",
    "Defination: We can assign a multiline string to a variable by using three quotes."
   ]
  },
  {
   "cell_type": "code",
   "execution_count": 3,
   "metadata": {},
   "outputs": [
    {
     "name": "stdout",
     "output_type": "stream",
     "text": [
      "Hello World\n",
      "This is a multiline string\n"
     ]
    }
   ],
   "source": [
    "# Example 3\n",
    "str3 = \"\"\"Hello World\n",
    "This is a multiline string\"\"\"\n",
    "print(str3)"
   ]
  },
  {
   "cell_type": "code",
   "execution_count": 4,
   "metadata": {},
   "outputs": [
    {
     "name": "stdout",
     "output_type": "stream",
     "text": [
      "Hello World\n",
      "This is a multiline string\n"
     ]
    }
   ],
   "source": [
    "# Example 4: using single quotes\n",
    "str4 = '''Hello World\n",
    "This is a multiline string'''\n",
    "print(str4)"
   ]
  },
  {
   "cell_type": "markdown",
   "metadata": {},
   "source": [
    "## Slice Strings\n",
    "Defination: We can access substrings, by using the slice syntax.\n",
    "\n",
    "Slicing of strings is done by using the slice operator ( [ ] and [ : ] ) with indexes starting at 0 in the beginning of the string and working their way from -1 at the end."
   ]
  },
  {
   "cell_type": "code",
   "execution_count": 5,
   "metadata": {},
   "outputs": [
    {
     "name": "stdout",
     "output_type": "stream",
     "text": [
      "Hello\n"
     ]
    }
   ],
   "source": [
    "#Example 5\n",
    "str5 = \"Hello World\"\n",
    "print(str5[0:5])"
   ]
  },
  {
   "cell_type": "markdown",
   "metadata": {},
   "source": [
    "## Slice from the start\n",
    "Defination: By leaving out the start index, the range will start at the first character."
   ]
  },
  {
   "cell_type": "code",
   "execution_count": 6,
   "metadata": {},
   "outputs": [
    {
     "name": "stdout",
     "output_type": "stream",
     "text": [
      "Hello\n"
     ]
    }
   ],
   "source": [
    "# Example 6\n",
    "str6 = \"Hello World\"\n",
    "print(str6[:5])"
   ]
  },
  {
   "cell_type": "markdown",
   "metadata": {},
   "source": [
    "## Slice to the end\n",
    "Defination: By leaving out the end index, the range will go to the end."
   ]
  },
  {
   "cell_type": "code",
   "execution_count": 7,
   "metadata": {},
   "outputs": [
    {
     "name": "stdout",
     "output_type": "stream",
     "text": [
      "World\n"
     ]
    }
   ],
   "source": [
    "# Example 7\n",
    "str7 = \"Hello World\"\n",
    "print(str7[6:])"
   ]
  },
  {
   "cell_type": "markdown",
   "metadata": {},
   "source": [
    "## Negative Indexing\n",
    "Defination: Negative indexing means beginning from the end, -1 refers to the last item, -2 refers to the second last item etc."
   ]
  },
  {
   "cell_type": "code",
   "execution_count": 8,
   "metadata": {},
   "outputs": [
    {
     "name": "stdout",
     "output_type": "stream",
     "text": [
      "Wor\n"
     ]
    }
   ],
   "source": [
    "# Example 8\n",
    "str8 = \"Hello World\"\n",
    "print(str8[-5:-2])"
   ]
  },
  {
   "cell_type": "markdown",
   "metadata": {},
   "source": [
    "## Modify Strings\n",
    "Defination: We cannot change the value of a string. We can only assign a new string to the same name."
   ]
  },
  {
   "cell_type": "code",
   "execution_count": 9,
   "metadata": {},
   "outputs": [
    {
     "ename": "TypeError",
     "evalue": "'str' object does not support item assignment",
     "output_type": "error",
     "traceback": [
      "\u001b[1;31m---------------------------------------------------------------------------\u001b[0m",
      "\u001b[1;31mTypeError\u001b[0m                                 Traceback (most recent call last)",
      "Cell \u001b[1;32mIn [9], line 3\u001b[0m\n\u001b[0;32m      1\u001b[0m \u001b[38;5;66;03m# Example 9\u001b[39;00m\n\u001b[0;32m      2\u001b[0m str9 \u001b[38;5;241m=\u001b[39m \u001b[38;5;124m\"\u001b[39m\u001b[38;5;124mHello World\u001b[39m\u001b[38;5;124m\"\u001b[39m\n\u001b[1;32m----> 3\u001b[0m \u001b[43mstr9\u001b[49m\u001b[43m[\u001b[49m\u001b[38;5;241;43m0\u001b[39;49m\u001b[43m]\u001b[49m \u001b[38;5;241m=\u001b[39m \u001b[38;5;124m'\u001b[39m\u001b[38;5;124mJ\u001b[39m\u001b[38;5;124m'\u001b[39m\n\u001b[0;32m      4\u001b[0m \u001b[38;5;28mprint\u001b[39m(str9)\n",
      "\u001b[1;31mTypeError\u001b[0m: 'str' object does not support item assignment"
     ]
    }
   ],
   "source": [
    "# Example 9\n",
    "str9 = \"Hello World\"\n",
    "str9[0] = 'J'\n",
    "print(str9)"
   ]
  },
  {
   "cell_type": "markdown",
   "metadata": {},
   "source": [
    "## String Upper Case\n",
    "Defination: We can convert a string into upper case by using upper() method.\n",
    "\n",
    "Syntax of upper() method with parameters: string.upper()"
   ]
  },
  {
   "cell_type": "code",
   "execution_count": 19,
   "metadata": {},
   "outputs": [
    {
     "name": "stdout",
     "output_type": "stream",
     "text": [
      "HELLO WORLD\n"
     ]
    }
   ],
   "source": [
    "# Example 10\n",
    "str10 = \"Hello World\"\n",
    "print(str10.upper())"
   ]
  },
  {
   "cell_type": "markdown",
   "metadata": {},
   "source": [
    "## String Lower Case\n",
    "Defination: We can convert a string into lower case by using lower() method.\n",
    "\n",
    "Syntax of lower() method with parameters: string.lower()"
   ]
  },
  {
   "cell_type": "code",
   "execution_count": 20,
   "metadata": {},
   "outputs": [
    {
     "name": "stdout",
     "output_type": "stream",
     "text": [
      "hello world\n"
     ]
    }
   ],
   "source": [
    "# Example 11\n",
    "str11 = \"Hello World\"\n",
    "print(str11.lower())"
   ]
  },
  {
   "cell_type": "markdown",
   "metadata": {},
   "source": [
    "## String Replace\n",
    "Defination: We can replace a string with another string by using replace() method.\n",
    "\n",
    "Syntax of replace() method with parameters: string.replace(old, new)\n",
    "\n",
    "Parameters: \n",
    "1. old: old substring to be replaced.\n",
    "2. new: new substring to be replaced."
   ]
  },
  {
   "cell_type": "code",
   "execution_count": 21,
   "metadata": {},
   "outputs": [
    {
     "name": "stdout",
     "output_type": "stream",
     "text": [
      "Jello World\n"
     ]
    }
   ],
   "source": [
    "# Example 12\n",
    "str12 = \"Hello World\"\n",
    "print(str12.replace(\"H\", \"J\"))"
   ]
  },
  {
   "cell_type": "markdown",
   "metadata": {},
   "source": [
    "## String Remove Whitespace\n",
    "Defination: We can remove whitespace from the beginning or the end of a string by using strip() method.\n",
    "\n",
    "Syntax of strip() method with parameters: string.strip()"
   ]
  },
  {
   "cell_type": "code",
   "execution_count": 22,
   "metadata": {},
   "outputs": [
    {
     "name": "stdout",
     "output_type": "stream",
     "text": [
      "Hello World\n"
     ]
    }
   ],
   "source": [
    "# Example 13\n",
    "str13 = \" Hello World \"\n",
    "print(str13.strip())"
   ]
  },
  {
   "cell_type": "markdown",
   "metadata": {},
   "source": [
    "## String Split\n",
    "Defination: We can split a string into substrings by using split() method.\n",
    "\n",
    "Syntax of split() method with parameters: string.split(separator, maxsplit)\n",
    "\n",
    "Parameters:\n",
    "1. separator: The is a delimiter. The string splits at this specified separator. If is not specified, any whitespace (space, newline etc.) string is a separator.\n",
    "2. maxsplit: It is a number, which tells us to split the string into maximum of provided number of times. If it is not provided then there is no limit."
   ]
  },
  {
   "cell_type": "code",
   "execution_count": 23,
   "metadata": {},
   "outputs": [
    {
     "name": "stdout",
     "output_type": "stream",
     "text": [
      "['Hello', 'World']\n"
     ]
    }
   ],
   "source": [
    "# Example 14\n",
    "str14 = \"Hello World\"\n",
    "print(str14.split(\" \"))"
   ]
  },
  {
   "cell_type": "markdown",
   "metadata": {},
   "source": [
    "## String Concatenation\n",
    "Defination: We can concatenate strings by using + operator."
   ]
  },
  {
   "cell_type": "code",
   "execution_count": 24,
   "metadata": {},
   "outputs": [
    {
     "name": "stdout",
     "output_type": "stream",
     "text": [
      "HelloWorld\n"
     ]
    }
   ],
   "source": [
    "# Example 15\n",
    "str15 = \"Hello\"\n",
    "str16 = \"World\"\n",
    "str17 = str15 + str16\n",
    "print(str17)"
   ]
  },
  {
   "cell_type": "markdown",
   "metadata": {},
   "source": [
    "## String Format\n",
    "Defination: We can format strings by using format() method.\n",
    "\n",
    "Syntax of format() method with parameters: string.format(value1, value2, ...)"
   ]
  },
  {
   "cell_type": "code",
   "execution_count": 25,
   "metadata": {},
   "outputs": [
    {
     "name": "stdout",
     "output_type": "stream",
     "text": [
      "Hello World\n"
     ]
    }
   ],
   "source": [
    "# Example 16\n",
    "str18 = \"Hello\"\n",
    "str19 = \"{} World\"\n",
    "print(str19.format(str18))"
   ]
  },
  {
   "cell_type": "markdown",
   "metadata": {},
   "source": [
    "### String Format with Position\n",
    "Defination: We can format strings by using format() method with position. The position is the index of the argument in the format() method. The index starts from 0."
   ]
  },
  {
   "cell_type": "code",
   "execution_count": 26,
   "metadata": {},
   "outputs": [
    {
     "name": "stdout",
     "output_type": "stream",
     "text": [
      "Hello this is Charan\n"
     ]
    }
   ],
   "source": [
    "# Example 17\n",
    "str20 = \"Hello\"\n",
    "str21 = \"Charan\"\n",
    "str22 = \"{0} this is {1}\"\n",
    "print(str22.format(str20, str21))"
   ]
  },
  {
   "cell_type": "markdown",
   "metadata": {},
   "source": [
    "### String Format with Keyword\n",
    "Defination: We can format strings by using format() method with keyword."
   ]
  },
  {
   "cell_type": "code",
   "execution_count": 27,
   "metadata": {},
   "outputs": [
    {
     "name": "stdout",
     "output_type": "stream",
     "text": [
      "Hello this is Charan\n"
     ]
    }
   ],
   "source": [
    "# Example 18\n",
    "str23 = \"Hello\"\n",
    "str24 = \"Charan\"\n",
    "str25 = \"{greeting} this is {name}\"\n",
    "print(str25.format(greeting = str23, name = str24))"
   ]
  },
  {
   "cell_type": "markdown",
   "metadata": {},
   "source": [
    "### String Format with Variable\n",
    "Defination: We can format strings by using format() method with variable."
   ]
  },
  {
   "cell_type": "code",
   "execution_count": 28,
   "metadata": {},
   "outputs": [
    {
     "name": "stdout",
     "output_type": "stream",
     "text": [
      "Hello this is Charan\n"
     ]
    }
   ],
   "source": [
    "# Example 19\n",
    "str26 = \"Hello\"\n",
    "str27 = \"Charan\"\n",
    "str28 = \"{greeting} this is {name}\"\n",
    "print(str28.format(greeting = str26, name = str27))"
   ]
  },
  {
   "cell_type": "markdown",
   "metadata": {},
   "source": [
    "## String Escape Character\n",
    "Defination: We can use escape character to insert characters that are illegal in a string."
   ]
  },
  {
   "cell_type": "code",
   "execution_count": 29,
   "metadata": {},
   "outputs": [
    {
     "name": "stdout",
     "output_type": "stream",
     "text": [
      "My name is \"Charan\"\n"
     ]
    }
   ],
   "source": [
    "# Example 20\n",
    "str29 = \"My name is \\\"Charan\\\"\"\n",
    "print(str29)"
   ]
  },
  {
   "cell_type": "markdown",
   "metadata": {},
   "source": [
    "## Escape Character:\n",
    "1. \\'\tSingle Quote\n",
    "2. \\\\\tBackslash\n",
    "3. \\n\tNew Line\n",
    "4. \\r\tCarriage Return\n",
    "5. \\t\tTab\n",
    "6. \\b\tBackspace\n",
    "7. \\f\tForm Feed\n",
    "8. \\ooo\tOctal value\n",
    "9. \\xhh\tHex value"
   ]
  }
 ],
 "metadata": {
  "kernelspec": {
   "display_name": "Python 3.10.7 64-bit",
   "language": "python",
   "name": "python3"
  },
  "language_info": {
   "codemirror_mode": {
    "name": "ipython",
    "version": 3
   },
   "file_extension": ".py",
   "mimetype": "text/x-python",
   "name": "python",
   "nbconvert_exporter": "python",
   "pygments_lexer": "ipython3",
   "version": "3.10.7"
  },
  "vscode": {
   "interpreter": {
    "hash": "26de051ba29f2982a8de78e945f0abaf191376122a1563185a90213a26c5da77"
   }
  }
 },
 "nbformat": 4,
 "nbformat_minor": 2
}
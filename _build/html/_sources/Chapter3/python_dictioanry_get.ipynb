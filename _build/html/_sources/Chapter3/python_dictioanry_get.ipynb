{
 "cells": [
  {
   "cell_type": "markdown",
   "metadata": {},
   "source": [
    "# Python Dictioanry get() Method\n",
    "The get() method returns the value of the item with the specified key if the key exists. If the key does not exist, it returns the specified default value if specified, otherwise None."
   ]
  },
  {
   "cell_type": "code",
   "execution_count": 2,
   "metadata": {},
   "outputs": [
    {
     "name": "stdout",
     "output_type": "stream",
     "text": [
      "room1\n"
     ]
    }
   ],
   "source": [
    "# Example\n",
    "\n",
    "locations = {'meeting1':'room1', 'meeting2':'room2'}\n",
    "\n",
    "print(locations.get('meeting1', 'online'))\n",
    "# Output: room1"
   ]
  },
  {
   "cell_type": "markdown",
   "metadata": {},
   "source": [
    "Default value will be returned if the key is not found"
   ]
  },
  {
   "cell_type": "code",
   "execution_count": 3,
   "metadata": {},
   "outputs": [
    {
     "name": "stdout",
     "output_type": "stream",
     "text": [
      "online\n"
     ]
    }
   ],
   "source": [
    "# to get the default value will be returned if the key is not found\n",
    "print(locations.get('meeting3', 'online'))\n",
    "# Output: online"
   ]
  },
  {
   "cell_type": "code",
   "execution_count": null,
   "metadata": {},
   "outputs": [],
   "source": []
  }
 ],
 "metadata": {
  "kernelspec": {
   "display_name": "Python 3.10.7 64-bit",
   "language": "python",
   "name": "python3"
  },
  "language_info": {
   "codemirror_mode": {
    "name": "ipython",
    "version": 3
   },
   "file_extension": ".py",
   "mimetype": "text/x-python",
   "name": "python",
   "nbconvert_exporter": "python",
   "pygments_lexer": "ipython3",
   "version": "3.10.7"
  },
  "orig_nbformat": 4,
  "vscode": {
   "interpreter": {
    "hash": "26de051ba29f2982a8de78e945f0abaf191376122a1563185a90213a26c5da77"
   }
  }
 },
 "nbformat": 4,
 "nbformat_minor": 2
}

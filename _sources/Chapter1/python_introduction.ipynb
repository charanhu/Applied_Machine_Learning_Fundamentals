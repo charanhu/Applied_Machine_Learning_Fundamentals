{
 "cells": [
  {
   "cell_type": "markdown",
   "metadata": {},
   "source": [
    "# Python Introduction"
   ]
  },
  {
   "cell_type": "markdown",
   "metadata": {},
   "source": [
    "Python is a high-level, interpreted, interactive and object-oriented scripting language.\n",
    "Python is designed to be highly readable. It uses English keywords frequently where as other languages use punctuation, and it has fewer syntactical constructions than other languages."
   ]
  },
  {
   "cell_type": "code",
   "execution_count": 1,
   "metadata": {},
   "outputs": [
    {
     "name": "stdout",
     "output_type": "stream",
     "text": [
      "Hello World\n"
     ]
    }
   ],
   "source": [
    "# Example 1: Hello World\n",
    "print(\"Hello World\")"
   ]
  },
  {
   "cell_type": "markdown",
   "metadata": {},
   "source": [
    "### What exactly is Python?\n",
    "A well-liked programming language is Python. In 1991, Guido van Rossum produced it, and it became available.\n",
    "\n",
    "It's employed for:\n",
    "\n",
    "1. server-side web development, \n",
    "2. software development, \n",
    "3. math, and \n",
    "4. system scripting."
   ]
  },
  {
   "cell_type": "markdown",
   "metadata": {},
   "source": [
    "### What is Python capable of?\n",
    "1. Web applications can be developed on a server using Python.\n",
    "2. Workflows can be made with Python and other tools.\n",
    "3. Python has a database system connection feature. Files can also be read and changed by it.\n",
    "4. Python can execute intricate mathematical operations and manage large amounts of data.\n",
    "5. Python can be used to produce software that is ready for production or for quick prototyping."
   ]
  },
  {
   "cell_type": "markdown",
   "metadata": {},
   "source": [
    "### Why use Python?\n",
    "1. Python runs on a variety of platforms (Windows, Mac, Linux, Raspberry Pi, etc).\n",
    "2. Python has a straightforward syntax that resembles that of English.\n",
    "3. Compared to other programming languages, Python's syntax enables programmers to construct applications with less lines of code.\n",
    "4. Since Python uses an interpreter system, code can be executed immediately after it is written. As a result, prototyping can proceed quickly.\n",
    "5. Python can be used in a functional, object-oriented, or procedural manner."
   ]
  },
  {
   "cell_type": "markdown",
   "metadata": {},
   "source": [
    "### Good to know ##\n",
    "1. Python 3 is the most recent major version, and we'll be using it in this course. Nevertheless, Python 2 continues to be used widely despite receiving only security updates.\n",
    "2. Python will be written in a text editor for this tutorial. Python can be written in an Integrated Development Environment (IDE), such as Thonny, Pycharm, Netbeans, or Eclipse. These IDEs are especially helpful for organising huge collections of Python files."
   ]
  },
  {
   "cell_type": "markdown",
   "metadata": {},
   "source": [
    "### Comparison of Python syntax with other programming languages\n",
    "1. Python was created with readability in mind and, thanks to mathematical influence, shares certain parallels with the English language.\n",
    "2. In contrast to other programming languages, which frequently employ semicolons or parentheses, Python uses new lines to complete a command.\n",
    "3. To describe scope, including the scope of loops, functions, and classes, Python uses indentation with whitespace. Curly brackets are frequently used in other computer languages for this reason."
   ]
  }
 ],
 "metadata": {
  "kernelspec": {
   "display_name": "Python 3.10.7 64-bit",
   "language": "python",
   "name": "python3"
  },
  "language_info": {
   "codemirror_mode": {
    "name": "ipython",
    "version": 3
   },
   "file_extension": ".py",
   "mimetype": "text/x-python",
   "name": "python",
   "nbconvert_exporter": "python",
   "pygments_lexer": "ipython3",
   "version": "3.10.7"
  },
  "orig_nbformat": 4,
  "vscode": {
   "interpreter": {
    "hash": "26de051ba29f2982a8de78e945f0abaf191376122a1563185a90213a26c5da77"
   }
  }
 },
 "nbformat": 4,
 "nbformat_minor": 2
}

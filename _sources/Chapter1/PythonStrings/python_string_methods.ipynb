{
 "cells": [
  {
   "cell_type": "markdown",
   "metadata": {},
   "source": [
    "# Python String Methods"
   ]
  },
  {
   "cell_type": "markdown",
   "metadata": {},
   "source": [
    "## capitalize()\n",
    "Defination: The capitalize() method returns a copy of the string with only its first character capitalized.\n",
    "\n",
    "Syntax of capitalize() method with Parameters: string.capitalize()"
   ]
  },
  {
   "cell_type": "code",
   "execution_count": 45,
   "metadata": {},
   "outputs": [
    {
     "name": "stdout",
     "output_type": "stream",
     "text": [
      "Old String:  python is awesome\n",
      "New String:  Python is awesome\n"
     ]
    }
   ],
   "source": [
    "# Example 1:\n",
    "# Python program to demonstrate working of capitalize()\n",
    "str1 = \"python is awesome\"\n",
    "print(\"Old String: \", str1)\n",
    "print(\"New String: \", str1.capitalize())"
   ]
  },
  {
   "cell_type": "markdown",
   "metadata": {},
   "source": [
    "## casefold()\n",
    "Defination: The casefold() method is removes all case distinctions present in a string. It is used for caseless matching, i.e. ignores cases when comparing.\n",
    "\n",
    "Syntax of casefold() method with Parameters: string.casefold()"
   ]
  },
  {
   "cell_type": "code",
   "execution_count": 46,
   "metadata": {},
   "outputs": [
    {
     "name": "stdout",
     "output_type": "stream",
     "text": [
      "Old String:  PYTHON IS AWESOME\n",
      "New String:  python is awesome\n"
     ]
    }
   ],
   "source": [
    "# Example 2:\n",
    "# Python program to demonstrate working of casefold()\n",
    "str2 = \"PYTHON IS AWESOME\"\n",
    "print(\"Old String: \", str2)\n",
    "print(\"New String: \", str2.casefold())"
   ]
  },
  {
   "cell_type": "markdown",
   "metadata": {},
   "source": [
    "## center()\n",
    "Defination: The center() method returns a centered string of length width. Padding is done using the specified fillchar (default is a space).\n",
    "\n",
    "Syntax of center() method with Parameters: string.center(width, fillchar)\n",
    "\n",
    "Parameters:\n",
    "1. width: This is the total width of the string.\n",
    "2. fillchar: This is the character to be filled in the empty space."
   ]
  },
  {
   "cell_type": "code",
   "execution_count": 47,
   "metadata": {},
   "outputs": [
    {
     "name": "stdout",
     "output_type": "stream",
     "text": [
      "Old String:  python is awesome\n",
      "New String:  ***python is awesome****\n"
     ]
    }
   ],
   "source": [
    "# Example 3:\n",
    "# Python program to demonstrate working of center()\n",
    "str3 = \"python is awesome\"\n",
    "print(\"Old String: \", str3)\n",
    "print(\"New String: \", str3.center(24, '*')) # 24 is the width of the string\n",
    "# Output:\n",
    "# Old String: python is awesome\n",
    "# New String: ****python is awesome****"
   ]
  },
  {
   "cell_type": "markdown",
   "metadata": {},
   "source": [
    "## count()\n",
    "Defination: The count() method returns the number of occurrences of a substring in the given string.\n",
    "\n",
    "Syntax of count() method with Parameters: string.count(substring, start, end)\n",
    "\n",
    "Parameters:\n",
    "1. substring: This is the substring to be searched in the string.\n",
    "2. start: This is the starting index within the string where search starts.\n",
    "3. end: This is the ending index within the string where search ends."
   ]
  },
  {
   "cell_type": "code",
   "execution_count": 48,
   "metadata": {},
   "outputs": [
    {
     "name": "stdout",
     "output_type": "stream",
     "text": [
      "Old String:  python is awesome, is isn't it?\n",
      "Result:  3\n"
     ]
    }
   ],
   "source": [
    "# Example 4:\n",
    "# Python program to demonstrate working of count()\n",
    "str4 = \"python is awesome, is isn't it?\"\n",
    "print(\"Old String: \", str4)\n",
    "print(\"Result: \", str4.count(\"is\"))"
   ]
  },
  {
   "cell_type": "markdown",
   "metadata": {},
   "source": [
    "## encode()\n",
    "Defination: The encode() method returns an encoded version of the given string. Default encoding is the current default string encoding.\n",
    "\n",
    "Syntax of encode() method with Parameters: string.encode(encoding, errors)\n",
    "\n",
    "Parameters:\n",
    "1. encoding: This is the encoding type to be used to encode the string.\n",
    "2. errors: This is the response when the encoding error occurs."
   ]
  },
  {
   "cell_type": "code",
   "execution_count": 49,
   "metadata": {},
   "outputs": [
    {
     "name": "stdout",
     "output_type": "stream",
     "text": [
      "Old String:  python is awesome\n",
      "Encoded String:  b'python is awesome'\n"
     ]
    }
   ],
   "source": [
    "# Example 5:\n",
    "# Python program to demonstrate working of default encode()\n",
    "str5 = \"python is awesome\"\n",
    "print(\"Old String: \", str5)\n",
    "print(\"Encoded String: \", str5.encode())"
   ]
  },
  {
   "cell_type": "code",
   "execution_count": 50,
   "metadata": {},
   "outputs": [
    {
     "name": "stdout",
     "output_type": "stream",
     "text": [
      "Old String:  python is awesome\n",
      "Encoded String:  b'python is awesome'\n"
     ]
    }
   ],
   "source": [
    "# Example 6:\n",
    "# Python program to demonstrate working of encode() with errors\n",
    "str6 = \"python is awesome\"\n",
    "print(\"Old String: \", str6)\n",
    "print(\"Encoded String: \", str6.encode(encoding = 'ascii', errors = 'ignore'))"
   ]
  },
  {
   "cell_type": "markdown",
   "metadata": {},
   "source": [
    "## endswith()\n",
    "Defination: The endswith() method returns True if a string ends with the specified suffix. If not, it returns False.\n",
    "\n",
    "Syntax of endswith() method with Parameters: string.endswith(suffix, start, end)\n",
    "\n",
    "Parameters:\n",
    "1. suffix: This is the suffix to be searched in the string.\n",
    "2. start: This is the starting index within the string where search starts.\n",
    "3. end: This is the ending index within the string where search ends."
   ]
  },
  {
   "cell_type": "code",
   "execution_count": 51,
   "metadata": {},
   "outputs": [
    {
     "name": "stdout",
     "output_type": "stream",
     "text": [
      "Old String:  My name is Charan H U\n",
      "Result:  True\n"
     ]
    }
   ],
   "source": [
    "# Example 7:\n",
    "# Python program to demonstrate working of endswith()\n",
    "str7 = \"My name is Charan H U\"\n",
    "print(\"Old String: \", str7)\n",
    "print(\"Result: \", str7.endswith(\"U\"))"
   ]
  },
  {
   "cell_type": "markdown",
   "metadata": {},
   "source": [
    "## expandtabs()\n",
    "Defination: The expandtabs() method returns a copy of the string where all tab characters are replaced with whitespace characters until the next multiple of tabsize parameter.\n",
    "\n",
    "Syntax of expandtabs() method with Parameters: string.expandtabs(tabsize)\n",
    "\n",
    "Parameters:\n",
    "1. tabsize: This is the tab size to be used to replace the tab character."
   ]
  },
  {
   "cell_type": "code",
   "execution_count": 52,
   "metadata": {},
   "outputs": [
    {
     "name": "stdout",
     "output_type": "stream",
     "text": [
      "Old String:  My name is\tCharan H U\n",
      "New String:  My name is      Charan H U\n"
     ]
    }
   ],
   "source": [
    "# Example 8:\n",
    "# Python program to demonstrate working of expandtabs()\n",
    "str8 = \"My name is\\tCharan H U\"\n",
    "print(\"Old String: \", str8)\n",
    "print(\"New String: \", str8.expandtabs(16))"
   ]
  },
  {
   "cell_type": "markdown",
   "metadata": {},
   "source": [
    "## find()\n",
    "Defination: The find() method returns the lowest index of the substring if it is found in given string. If its is not found then it returns -1.\n",
    "\n",
    "Syntax of find() method with Parameters: string.find(substring, start, end)\n",
    "\n",
    "Parameters:\n",
    "1. substring: This is the substring to be searched in the string.\n",
    "2. start: This is the starting index within the string where search starts.\n",
    "3. end: This is the ending index within the string where search ends."
   ]
  },
  {
   "cell_type": "code",
   "execution_count": 53,
   "metadata": {},
   "outputs": [
    {
     "name": "stdout",
     "output_type": "stream",
     "text": [
      "Old String:  My name is Charan H U\n",
      "Result:  11\n"
     ]
    }
   ],
   "source": [
    "# Example 9:\n",
    "# Python program to demonstrate working of find()\n",
    "str9 = \"My name is Charan H U\"\n",
    "print(\"Old String: \", str9)\n",
    "print(\"Result: \", str9.find(\"Charan\"))"
   ]
  },
  {
   "cell_type": "code",
   "execution_count": 54,
   "metadata": {},
   "outputs": [
    {
     "name": "stdout",
     "output_type": "stream",
     "text": [
      "Old String:  My name is Charan H U\n",
      "Result:  11\n"
     ]
    }
   ],
   "source": [
    "# Example 10:\n",
    "# Python program to demonstrate working of find() with start and end\n",
    "str10 = \"My name is Charan H U\"\n",
    "print(\"Old String: \", str10)\n",
    "print(\"Result: \", str10.find(\"Charan\", 10, 21))"
   ]
  },
  {
   "cell_type": "markdown",
   "metadata": {},
   "source": [
    "## format()\n",
    "Defination: The format() method formats the specified value(s) and insert them inside the string's placeholder.\n",
    "\n",
    "Syntax of format() method with Parameters: string.format(value1, value2, ...)\n",
    "\n",
    "Parameters:\n",
    "1. value1, value2, ...: These are the values to be inserted inside the string's placeholder."
   ]
  },
  {
   "cell_type": "code",
   "execution_count": 55,
   "metadata": {},
   "outputs": [
    {
     "name": "stdout",
     "output_type": "stream",
     "text": [
      "Old String:  My name is {}\n",
      "New String:  My name is Charan H U\n"
     ]
    }
   ],
   "source": [
    "# Example 11:\n",
    "# Python program to demonstrate working of format()\n",
    "str11 = \"My name is {}\"\n",
    "print(\"Old String: \", str11)\n",
    "print(\"New String: \", str11.format(\"Charan H U\"))"
   ]
  },
  {
   "cell_type": "markdown",
   "metadata": {},
   "source": [
    "## format_map()\n",
    "Defination: The format_map() method formats the specified value(s) and insert them inside the string's placeholder.\n",
    "\n",
    "Syntax of format_map() method with Parameters: string.format_map(mapping)\n",
    "\n",
    "Parameters:\n",
    "1. mapping: This is the mapping to be inserted inside the string's placeholder."
   ]
  },
  {
   "cell_type": "code",
   "execution_count": 56,
   "metadata": {},
   "outputs": [
    {
     "name": "stdout",
     "output_type": "stream",
     "text": [
      "Old String:  My name is {name}\n",
      "New String:  My name is Charan H U\n"
     ]
    }
   ],
   "source": [
    "# Example 12:\n",
    "# Python program to demonstrate working of format_map()\n",
    "str12 = \"My name is {name}\"\n",
    "print(\"Old String: \", str12)\n",
    "print(\"New String: \", str12.format_map({\"name\": \"Charan H U\"}))"
   ]
  },
  {
   "cell_type": "markdown",
   "metadata": {},
   "source": [
    "## index()\n",
    "Defination: The index() method returns the lowest index of the substring if it is found in given string. If its is not found then it raises an exception.\n",
    "Syntax of index() method with Parameters: string.index(substring, start, end)\n",
    "Parameters:\n",
    "1. substring: This is the substring to be searched in the string.\n",
    "2. start: This is the starting index within the string where search starts.\n",
    "3. end: This is the ending index within the string where search ends."
   ]
  },
  {
   "cell_type": "code",
   "execution_count": 57,
   "metadata": {},
   "outputs": [
    {
     "name": "stdout",
     "output_type": "stream",
     "text": [
      "Old String:  My name is Charan H U\n",
      "Result:  11\n"
     ]
    }
   ],
   "source": [
    "# Example 13:\n",
    "# Python program to demonstrate working of index()\n",
    "str13 = \"My name is Charan H U\"\n",
    "print(\"Old String: \", str13)\n",
    "print(\"Result: \", str13.index(\"Charan\"))"
   ]
  },
  {
   "cell_type": "code",
   "execution_count": 58,
   "metadata": {},
   "outputs": [
    {
     "name": "stdout",
     "output_type": "stream",
     "text": [
      "Old String:  My name is Charan H U\n",
      "Result 1:  11\n"
     ]
    },
    {
     "ename": "ValueError",
     "evalue": "substring not found",
     "output_type": "error",
     "traceback": [
      "\u001b[1;31m---------------------------------------------------------------------------\u001b[0m",
      "\u001b[1;31mValueError\u001b[0m                                Traceback (most recent call last)",
      "Cell \u001b[1;32mIn [58], line 6\u001b[0m\n\u001b[0;32m      4\u001b[0m \u001b[39mprint\u001b[39m(\u001b[39m\"\u001b[39m\u001b[39mOld String: \u001b[39m\u001b[39m\"\u001b[39m, str14)\n\u001b[0;32m      5\u001b[0m \u001b[39mprint\u001b[39m(\u001b[39m\"\u001b[39m\u001b[39mResult 1: \u001b[39m\u001b[39m\"\u001b[39m, str14\u001b[39m.\u001b[39mindex(\u001b[39m\"\u001b[39m\u001b[39mCharan\u001b[39m\u001b[39m\"\u001b[39m, \u001b[39m10\u001b[39m, \u001b[39m21\u001b[39m))\n\u001b[1;32m----> 6\u001b[0m \u001b[39mprint\u001b[39m(\u001b[39m\"\u001b[39m\u001b[39mResult 2: \u001b[39m\u001b[39m\"\u001b[39m, str14\u001b[39m.\u001b[39;49mindex(\u001b[39m\"\u001b[39;49m\u001b[39mCharan\u001b[39;49m\u001b[39m\"\u001b[39;49m, \u001b[39m10\u001b[39;49m, \u001b[39m15\u001b[39;49m))\n",
      "\u001b[1;31mValueError\u001b[0m: substring not found"
     ]
    }
   ],
   "source": [
    "# Example 14:\n",
    "# Python program to demonstrate working of index() with start and end\n",
    "str14 = \"My name is Charan H U\"\n",
    "print(\"Old String: \", str14)\n",
    "print(\"Result 1: \", str14.index(\"Charan\", 10, 21))\n",
    "print(\"Result 2: \", str14.index(\"Charan\", 10, 15))"
   ]
  },
  {
   "cell_type": "markdown",
   "metadata": {},
   "source": [
    "## isalnum()\n",
    "Defination: The isalnum() method returns True if all characters in the string are alphanumeric (either alphabets or numbers). If not, it returns False.\n",
    "\n",
    "Syntax of isalnum() method with Parameters: string.isalnum()"
   ]
  },
  {
   "cell_type": "code",
   "execution_count": null,
   "metadata": {},
   "outputs": [],
   "source": [
    "# Example 15:\n",
    "# Python program to demonstrate working of isalnum()\n",
    "str15 = \"My name is Charan H U\"\n",
    "str16 = \"@@@$%^\"\n",
    "print(\"Old String 1: \", str15)\n",
    "print(\"Result 1: \", str15.isalnum())\n",
    "print(\"Old String 2: \", str16)\n",
    "print(\"Result 2: \", str16.isalnum())"
   ]
  },
  {
   "cell_type": "markdown",
   "metadata": {},
   "source": [
    "## isalpha()\n",
    "Defination: The isalpha() method returns True if all characters in the string are alphabets. If not, it returns False.\n",
    "\n",
    "Syntax of isalpha() method with Parameters: string.isalpha()"
   ]
  },
  {
   "cell_type": "code",
   "execution_count": null,
   "metadata": {},
   "outputs": [],
   "source": [
    "# Example 16:\n",
    "# Python program to demonstrate working of isalpha()\n",
    "str17 = \"My name is Charan H U\"\n",
    "str18 = \"Charan\"\n",
    "print(\"Old String 1: \", str17)\n",
    "print(\"Result 1: \", str17.isalpha())\n",
    "print(\"Old String 2: \", str18)\n",
    "print(\"Result 2: \", str18.isalpha())"
   ]
  },
  {
   "cell_type": "markdown",
   "metadata": {},
   "source": [
    "## isdecimal()\n",
    "Defination: The isdecimal() method returns True if all characters in a string are decimal characters. If not, it returns False.\n",
    "\n",
    "Syntax of isdecimal() method with Parameters: string.isdecimal()"
   ]
  },
  {
   "cell_type": "code",
   "execution_count": null,
   "metadata": {},
   "outputs": [],
   "source": [
    "# Example 17:\n",
    "# Python program to demonstrate working of isdecimal()\n",
    "str19 = \"My name is Charan H U\"\n",
    "str20 = \"1234567890\"\n",
    "print(\"Old String 1: \", str19)\n",
    "print(\"Result 1: \", str19.isdecimal())\n",
    "print(\"Old String 2: \", str20)\n",
    "print(\"Result 2: \", str20.isdecimal())"
   ]
  },
  {
   "cell_type": "markdown",
   "metadata": {},
   "source": [
    "## isdigit()\n",
    "Defination: The isdigit() method returns True if all characters in a string are digits. If not, it returns False.\n",
    "\n",
    "Syntax of isdigit() method with Parameters: string.isdigit()"
   ]
  },
  {
   "cell_type": "code",
   "execution_count": null,
   "metadata": {},
   "outputs": [],
   "source": [
    "# Example 18:\n",
    "# Python program to demonstrate working of isdigit()\n",
    "str21 = \"My name is Charan H U\"\n",
    "str22 = \"1234567890\"\n",
    "print(\"Old String 1: \", str21)\n",
    "print(\"Result 1: \", str21.isdigit())\n",
    "print(\"Old String 2: \", str22)\n",
    "print(\"Result 2: \", str22.isdigit())"
   ]
  },
  {
   "cell_type": "markdown",
   "metadata": {},
   "source": [
    "## isidentifier()\n",
    "Defination: The isidentifier() method returns True if the string is a valid identifier in Python. If not, it returns False.\n",
    "\n",
    "Syntax of isidentifier() method with Parameters: string.isidentifier()"
   ]
  },
  {
   "cell_type": "code",
   "execution_count": null,
   "metadata": {},
   "outputs": [],
   "source": [
    "# Example 19:\n",
    "# Python program to demonstrate working of isidentifier()\n",
    "str23 = \"int\"\n",
    "str24 = \"int1\"\n",
    "print(\"Old String 1: \", str23)\n",
    "print(\"Result 1: \", str23.isidentifier())\n",
    "print(\"Old String 2: \", str24)\n",
    "print(\"Result 2: \", str24.isidentifier())"
   ]
  },
  {
   "cell_type": "markdown",
   "metadata": {},
   "source": [
    "## islower()\n",
    "Defination: The islower() method returns True if all alphabets in a string are lowercase alphabets. If the string contains at least one uppercase alphabet, it returns False.\n",
    "\n",
    "Syntax of islower() method with Parameters: string.islower()"
   ]
  },
  {
   "cell_type": "code",
   "execution_count": null,
   "metadata": {},
   "outputs": [],
   "source": [
    "# Example 20:\n",
    "# Python program to demonstrate working of islower()\n",
    "str25 = \"My name is Charan H U\"\n",
    "str26 = \"my name is charan h u\"\n",
    "print(\"Old String 1: \", str25)\n",
    "print(\"Result 1: \", str25.islower())\n",
    "print(\"Old String 2: \", str26)\n",
    "print(\"Result 2: \", str26.islower())"
   ]
  },
  {
   "cell_type": "markdown",
   "metadata": {},
   "source": [
    "## isnumeric()\n",
    "Defination: The isnumeric() method returns True if all characters in a string are numeric characters. If not, it returns False.\n",
    "\n",
    "Syntax of isnumeric() method with Parameters: string.isnumeric()"
   ]
  },
  {
   "cell_type": "code",
   "execution_count": null,
   "metadata": {},
   "outputs": [],
   "source": [
    "# Example 21:\n",
    "# Python program to demonstrate working of isnumeric()\n",
    "str27 = \"My name is Charan H U\"\n",
    "str28 = \"1234567890\"\n",
    "print(\"Old String 1: \", str27)\n",
    "print(\"Result 1: \", str27.isnumeric())\n",
    "print(\"Old String 2: \", str28)\n",
    "print(\"Result 2: \", str28.isnumeric())"
   ]
  },
  {
   "cell_type": "markdown",
   "metadata": {},
   "source": [
    "## isprintable()\n",
    "Defination: The isprintable() method returns True if all characters in a string are printable or the string is empty. If not, it returns False.\n",
    "\n",
    "Syntax of isprintable() method with Parameters: string.isprintable()"
   ]
  },
  {
   "cell_type": "code",
   "execution_count": null,
   "metadata": {},
   "outputs": [
    {
     "name": "stdout",
     "output_type": "stream",
     "text": [
      "Old String 1:  My name is Charan H U\n",
      "Result 1:  True\n",
      "Old String 2:  My name is \n",
      "Charan H U #1?.\n",
      "Result 2:  False\n"
     ]
    }
   ],
   "source": [
    "# Example 22:\n",
    "# Python program to demonstrate working of isprintable()\n",
    "str29 = \"My name is Charan H U\"\n",
    "str30 = \"My name is \\nCharan H U #1?.\"\n",
    "print(\"Old String 1: \", str29)\n",
    "print(\"Result 1: \", str29.isprintable())\n",
    "print(\"Old String 2: \", str30)\n",
    "print(\"Result 2: \", str30.isprintable())"
   ]
  },
  {
   "cell_type": "markdown",
   "metadata": {},
   "source": [
    "## isspace()\n",
    "Defination: The isspace() method returns True if there are only whitespace characters in the string. If not, it returns False.\n",
    "\n",
    "Syntax of isspace() method with Parameters: string.isspace()"
   ]
  },
  {
   "cell_type": "code",
   "execution_count": null,
   "metadata": {},
   "outputs": [
    {
     "name": "stdout",
     "output_type": "stream",
     "text": [
      "Old String 1:  My name is Charan H U\n",
      "Result 1:  False\n",
      "Old String 2:   \n",
      "Result 2:  True\n"
     ]
    }
   ],
   "source": [
    "# Example 23:\n",
    "# Python program to demonstrate working of isspace()\n",
    "str31 = \"My name is Charan H U\"\n",
    "str32 = \" \"\n",
    "print(\"Old String 1: \", str31)\n",
    "print(\"Result 1: \", str31.isspace())\n",
    "print(\"Old String 2: \", str32)\n",
    "print(\"Result 2: \", str32.isspace())"
   ]
  },
  {
   "cell_type": "markdown",
   "metadata": {},
   "source": [
    "## istitle()\n",
    "Defination: The istitle() method returns True if the string follows the rules of a title. If not, it returns False.\n",
    "\n",
    "rules of title() method\n",
    "1. All words in a title start with a upper case letter\n",
    "2. All other letters in a title are lower case\n",
    "\n",
    "Syntax of istitle() method with Parameters: string.istitle()"
   ]
  },
  {
   "cell_type": "code",
   "execution_count": null,
   "metadata": {},
   "outputs": [
    {
     "name": "stdout",
     "output_type": "stream",
     "text": [
      "Old String 1:  My name is Charan H U\n",
      "Result 1:  False\n",
      "Old String 2:  My Name Is Charan H U\n",
      "Result 2:  True\n"
     ]
    }
   ],
   "source": [
    "# Example 24:\n",
    "# Python program to demonstrate working of istitle()\n",
    "str33 = \"My name is Charan H U\"\n",
    "str34 = \"My Name Is Charan H U\"\n",
    "print(\"Old String 1: \", str33)\n",
    "print(\"Result 1: \", str33.istitle())\n",
    "print(\"Old String 2: \", str34)\n",
    "print(\"Result 2: \", str34.istitle())"
   ]
  },
  {
   "cell_type": "markdown",
   "metadata": {},
   "source": [
    "## isupper()\n",
    "Defination: The isupper() method returns True if all alphabets in a string are uppercase alphabets. If the string contains at least one lowercase alphabet, it returns False.\n",
    "\n",
    "Syntax of isupper() method with Parameters: string.isupper()"
   ]
  },
  {
   "cell_type": "code",
   "execution_count": null,
   "metadata": {},
   "outputs": [
    {
     "name": "stdout",
     "output_type": "stream",
     "text": [
      "Old String 1:  My name is Charan H U\n",
      "Result 1:  False\n",
      "Old String 2:  MY NAME IS CHARAN H U\n",
      "Result 2:  True\n"
     ]
    }
   ],
   "source": [
    "# Example 25:\n",
    "# Python program to demonstrate working of isupper()\n",
    "str35 = \"My name is Charan H U\"\n",
    "str36 = \"MY NAME IS CHARAN H U\"\n",
    "print(\"Old String 1: \", str35)\n",
    "print(\"Result 1: \", str35.isupper())\n",
    "print(\"Old String 2: \", str36)\n",
    "print(\"Result 2: \", str36.isupper())"
   ]
  },
  {
   "cell_type": "markdown",
   "metadata": {},
   "source": [
    "## join()\n",
    "Defination: The join() method returns a string concatenated with the elements of an iterable.\n",
    "\n",
    "Syntax of join() method with Parameters: string.join(iterable)\n",
    "\n",
    "Parameters:\n",
    "1. iterable: iterable (list, tuple, string etc.) whose elements are to be joined."
   ]
  },
  {
   "cell_type": "code",
   "execution_count": null,
   "metadata": {},
   "outputs": [
    {
     "name": "stdout",
     "output_type": "stream",
     "text": [
      "Result:  My name is Charan H U\n"
     ]
    }
   ],
   "source": [
    "# Example 26:\n",
    "# Python program to demonstrate working of join()\n",
    "str37 = \"My name is\"\n",
    "str38 = \" \"\n",
    "str39 = \"Charan H U\"\n",
    "print(\"Result: \", str38.join((str37, str39)))"
   ]
  },
  {
   "cell_type": "markdown",
   "metadata": {},
   "source": [
    "## ljust()\n",
    "Defination: The ljust() method returns a left-justified string of a given minimum width.\n",
    "\n",
    "Syntax of ljust() method with Parameters: string.ljust(width, fillchar)\n",
    "\n",
    "Parameters:\n",
    "1. width: Minimum width of the string. If the width is less than the length of the string, the original string is returned.\n",
    "2. fillchar (Optional): Fill character. Defaults to a space.\n",
    "\n",
    "Note: The fillchar is added to the right of the string."
   ]
  },
  {
   "cell_type": "code",
   "execution_count": null,
   "metadata": {},
   "outputs": [
    {
     "name": "stdout",
     "output_type": "stream",
     "text": [
      "Old String:  My name is Charan H U\n",
      "Result String after ljust(30, '0'):  My name is Charan H U000000000\n"
     ]
    }
   ],
   "source": [
    "# Example 27:\n",
    "# Python program to demonstrate working of ljust()\n",
    "str40 = \"My name is Charan H U\"\n",
    "print(\"Old String: \", str40)\n",
    "print(\"Result String after ljust(30, '0'): \", str40.ljust(30, '0'))"
   ]
  },
  {
   "cell_type": "markdown",
   "metadata": {},
   "source": [
    "## lower()\n",
    "Defination: The lower() method returns a copy of the string in which all case-based characters have been lowercased.\n",
    "\n",
    "Syntax of lower() method with Parameters: string.lower()"
   ]
  },
  {
   "cell_type": "code",
   "execution_count": null,
   "metadata": {},
   "outputs": [],
   "source": [
    "# Example 28:\n",
    "# Python program to demonstrate working of lower()\n",
    "str41 = \"My name is Charan H U\"\n",
    "print(\"Old String: \", str41)\n",
    "print(\"Result String after lower(): \", str41.lower())"
   ]
  },
  {
   "cell_type": "markdown",
   "metadata": {},
   "source": [
    "## lstrip()\n",
    "Defination: The lstrip() method returns a copy of the string with leading characters removed (based on the string argument passed).\n",
    "\n",
    "Syntax of lstrip() method with Parameters: string.lstrip(chars)\n",
    "\n",
    "Parameters:\n",
    "1. chars (Optional): A set of characters to be removed. If omitted or None, the chars argument defaults to removing whitespace. The chars argument is not a prefix; rather, all combinations of its values are stripped."
   ]
  },
  {
   "cell_type": "code",
   "execution_count": null,
   "metadata": {},
   "outputs": [],
   "source": [
    "# Example 29:\n",
    "# Python program to demonstrate working of lstrip()\n",
    "str42 = \"My name is Charan H U\"\n",
    "print(\"Old String: \", str42)\n",
    "print(\"Result String after lstrip('My'): \", str42.lstrip('My'))"
   ]
  },
  {
   "cell_type": "markdown",
   "metadata": {},
   "source": [
    "## maketrans()\n",
    "Defination: The maketrans() method returns a translation table to be used in translations.\n",
    "\n",
    "Syntax of maketrans() method with Parameters: string.maketrans(x, y, z)\n",
    "\n",
    "Parameters:\n",
    "1. x: If only one argument is supplied, it must be a dictionary. Each key in the dictionary must be a single character string, and each value must also be a single character string.\n",
    "2. y: If two arguments are passed, they must both be strings of equal length, and in the resulting dictionary, each character in x will be mapped to the character at the same position in y.\n",
    "3. z: If there is a third argument, it must be a string, whose characters will be mapped to None in the result."
   ]
  },
  {
   "cell_type": "code",
   "execution_count": null,
   "metadata": {},
   "outputs": [],
   "source": [
    "# Example 30:\n",
    "# Python program to demonstrate working of maketrans()\n",
    "str43 = \"My name is Charan H U\"\n",
    "print(\"Old String: \", str43)\n",
    "print(\"Result after maketrans(): \", str43.maketrans('My', 'Ch'))\n",
    "print(\"Result after maketrans() using translate(): \", str43.translate(str43.maketrans('My', 'Ch')))"
   ]
  },
  {
   "cell_type": "markdown",
   "metadata": {},
   "source": [
    "## partition()\n",
    "Defination: The partition() method splits the string at the first occurrence of argument string and returns a tuple containing the part before the separator, argument string and the part after the separator.\n",
    "\n",
    "Syntax of partition() method with Parameters: string.partition(sep)\n",
    "\n",
    "Parameters:\n",
    "1. sep: The separator based on which to split the string. It defaults to any whitespace."
   ]
  },
  {
   "cell_type": "code",
   "execution_count": null,
   "metadata": {},
   "outputs": [],
   "source": [
    "# Example 31:\n",
    "# Python program to demonstrate working of partition()\n",
    "str44 = \"My name is Charan H U\"\n",
    "print(\"Old String: \", str44)\n",
    "print(\"Result after partition('is'): \", str44.partition('is'))"
   ]
  },
  {
   "cell_type": "markdown",
   "metadata": {},
   "source": [
    "## replace()\n",
    "Defination: The replace() method returns a copy of the string where all occurrences of a substring is replaced with another substring.\n",
    "\n",
    "Syntax of replace() method with Parameters: string.replace(old, new, count)\n",
    "\n",
    "Parameters:\n",
    "1. old: This is old substring to be replaced.\n",
    "2. new: This is new substring, which would replace old substring.\n",
    "3. count (Optional): If this optional argument count is given, only the first count occurrences are replaced."
   ]
  },
  {
   "cell_type": "code",
   "execution_count": null,
   "metadata": {},
   "outputs": [],
   "source": [
    "# Example 32:\n",
    "# Python program to demonstrate working of replace()\n",
    "str45 = \"My name is Charan H U\"\n",
    "print(\"Old String: \", str45)\n",
    "print(\"Result after replace('is', 'was'): \", str45.replace('is', 'was'))"
   ]
  },
  {
   "cell_type": "markdown",
   "metadata": {},
   "source": [
    "## rfind()\n",
    "Defination: The rfind() method returns the last index where the substring str is found, or -1 if no such index exists, optionally restricting the search to string[beg:end].\n",
    "\n",
    "Syntax of rfind() method with Parameters: string.rfind(str, beg=0, end=len(string))\n",
    "\n",
    "Parameters:\n",
    "1. str: This is the substring to be searched.\n",
    "2. beg (Optional): This is the starting index, by default its 0.\n",
    "3. end (Optional): This is the ending index, by default its equal to the length of the string."
   ]
  },
  {
   "cell_type": "code",
   "execution_count": null,
   "metadata": {},
   "outputs": [],
   "source": [
    "# Example 33:\n",
    "# Python program to demonstrate working of rfind()\n",
    "str46 = \"My name is Charan H U. This is My Book\"\n",
    "print(\"Old String: \", str46)\n",
    "print(\"Result after rfind('is'): \", str46.rfind('is'))"
   ]
  },
  {
   "cell_type": "markdown",
   "metadata": {},
   "source": [
    "## rindex()\n",
    "Defination: The rindex() method returns the last index where the substring str is found, or raises an exception if no such index exists, optionally restricting the search to string[beg:end].\n",
    "\n",
    "Syntax of rindex() method with Parameters: string.rindex(str, beg=0, end=len(string))\n",
    "\n",
    "Parameters:\n",
    "1. str: This is the substring to be searched.\n",
    "2. beg (Optional): This is the starting index, by default its 0.\n",
    "3. end (Optional): This is the ending index, by default its equal to the length of the string."
   ]
  },
  {
   "cell_type": "code",
   "execution_count": null,
   "metadata": {},
   "outputs": [],
   "source": [
    "# Example 34:\n",
    "# Python program to demonstrate working of rindex()\n",
    "str47 = \"My name is Charan H U. This is My Book\"\n",
    "print(\"Old String: \", str47)\n",
    "print(\"Result after rindex('is'): \", str47.rindex('is'))"
   ]
  },
  {
   "cell_type": "markdown",
   "metadata": {},
   "source": [
    "## rjust()\n",
    "Defination: The rjust() method returns a right-justified string of a given minimum width.\n",
    "\n",
    "Syntax of rjust() method with Parameters: string.rjust(width, fillchar)\n",
    "\n",
    "Parameters:\n",
    "1. width: This is the minimum width of the string. If the width is less than the length of the string, the string is returned unchanged.\n",
    "2. fillchar (Optional): This is the filling character, default is a space."
   ]
  },
  {
   "cell_type": "code",
   "execution_count": null,
   "metadata": {},
   "outputs": [],
   "source": [
    "# Example 35:\n",
    "# Python program to demonstrate working of rjust()\n",
    "str48 = \"My name is Charan H U\"\n",
    "print(\"Old String: \", str48)\n",
    "print(\"Result after rjust(30, '0'): \", str48.rjust(30, '0'))"
   ]
  },
  {
   "cell_type": "markdown",
   "metadata": {},
   "source": [
    "## rpartition()\n",
    "Defination: The rpartition() method splits the string at the last occurrence of argument string and returns a tuple containing the part before the separator, argument string and the part after the separator.\n",
    "\n",
    "Syntax of rpartition() method with Parameters: string.rpartition(sep)\n",
    "\n",
    "Parameters:\n",
    "1. sep: The separator based on which to split the string. It defaults to any whitespace."
   ]
  },
  {
   "cell_type": "code",
   "execution_count": null,
   "metadata": {},
   "outputs": [],
   "source": [
    "# Example 36:\n",
    "# Python program to demonstrate working of rpartition()\n",
    "str49 = \"My name is Charan H U. This is My Book\"\n",
    "print(\"Old String: \", str49)\n",
    "print(\"Result after rpartition('is'): \", str49.rpartition('is'))"
   ]
  },
  {
   "cell_type": "markdown",
   "metadata": {},
   "source": [
    "## rsplit()\n",
    "Defination: The rsplit() method splits a string from the right, returns a list.\n",
    "\n",
    "Syntax of rsplit() method with Parameters: string.rsplit(sep=None, maxsplit=-1)\n",
    "\n",
    "Parameters:\n",
    "1. sep (Optional): The is a delimiter. The string splits at this specified separator. If is not provided then any white space is a separator.\n",
    "2. maxsplit (Optional): The maxsplit defines the number of splits to do. Default value is -1, which is \"all occurrences\"."
   ]
  },
  {
   "cell_type": "code",
   "execution_count": null,
   "metadata": {},
   "outputs": [],
   "source": [
    "# Example 37:\n",
    "# Python program to demonstrate working of rsplit()\n",
    "str50 = \"My name is Charan H U. This is My Book\"\n",
    "print(\"Old String: \", str50)\n",
    "print(\"Result after rsplit('is'): \", str50.rsplit('is'))"
   ]
  },
  {
   "cell_type": "markdown",
   "metadata": {},
   "source": [
    "## rstrip()\n",
    "Defination: The rstrip() method returns a copy of the string with trailing characters removed (based on the string argument passed).\n",
    "\n",
    "Syntax of rstrip() method with Parameters: string.rstrip([chars])\n",
    "\n",
    "Parameters:\n",
    "1. chars (Optional): This is a string specifying the set of characters to be removed. If omitted or None, the chars argument defaults to removing whitespace. The chars argument is not a prefix or suffix; rather, all combinations of its values are stripped.\n"
   ]
  },
  {
   "cell_type": "code",
   "execution_count": null,
   "metadata": {},
   "outputs": [],
   "source": [
    "# Example 38:\n",
    "# Python program to demonstrate working of rstrip()\n",
    "str51 = \"My name is Charan H U. This is My Book\"\n",
    "print(\"Old String: \", str51)\n",
    "print(\"Result after rstrip('is'): \", str51.rstrip('is'))"
   ]
  },
  {
   "cell_type": "markdown",
   "metadata": {},
   "source": [
    "## split()\n",
    "Defination: The split() method splits a string into a list. You can specify the separator, default separator is any whitespace.\n",
    "\n",
    "Syntax of split() method with Parameters: string.split(sep=None, maxsplit=-1)\n",
    "\n",
    "Parameters:\n",
    "1. sep (Optional): The is a delimiter. The string splits at this specified separator. If is not provided then any white space is a separator.\n",
    "2. maxsplit (Optional): The maxsplit defines the number of splits to do. Default value is -1, which is \"all occurrences\"."
   ]
  },
  {
   "cell_type": "code",
   "execution_count": null,
   "metadata": {},
   "outputs": [],
   "source": [
    "# Example 39:\n",
    "# Python program to demonstrate working of split()\n",
    "str52 = \"My name is Charan H U. This is My Book\"\n",
    "print(\"Old String: \", str52)\n",
    "print(\"Result after split('is'): \", str52.split('is'))"
   ]
  },
  {
   "cell_type": "markdown",
   "metadata": {},
   "source": [
    "## splitlines()\n",
    "Defination: The splitlines() method splits a string into a list. The splitting is done at line boundaries.\n",
    "\n",
    "Syntax of splitlines() method with Parameters: string.splitlines([keepends])\n",
    "\n",
    "Parameters:\n",
    "1. keepends (Optional): This is a boolean value. If true, line breaks are also included in the resulting list."
   ]
  },
  {
   "cell_type": "code",
   "execution_count": null,
   "metadata": {},
   "outputs": [],
   "source": [
    "# Example 40:\n",
    "# Python program to demonstrate working of splitlines()\n",
    "str53 = \"\"\"My name is \n",
    "Charan H U. \n",
    "This is My Book\"\"\"\n",
    "print(\"Old String: \", str53)\n",
    "print(\"Result after splitlines(): \", str53.splitlines())"
   ]
  },
  {
   "cell_type": "markdown",
   "metadata": {},
   "source": [
    "## startswith()\n",
    "Defination: The startswith() method returns true if a string starts with the specified prefix. If not, it returns false.\n",
    "\n",
    "Syntax of startswith() method with Parameters: string.startswith(prefix, start, end)\n",
    "\n",
    "Parameters:\n",
    "1. prefix: This is the prefix to be checked.\n",
    "2. start (Optional): This is the starting index within the string where prefix is to be checked.\n",
    "3. end (Optional): This is the ending index within the string where prefix is to be checked."
   ]
  },
  {
   "cell_type": "code",
   "execution_count": null,
   "metadata": {},
   "outputs": [],
   "source": [
    "# Example 41:\n",
    "# Python program to demonstrate working of startswith()\n",
    "str54 = \"My name is Charan H U. This is My Book\"\n",
    "print(\"Old String: \", str54)\n",
    "print(\"Result after startswith('My'): \", str54.startswith('My'))\n",
    "print(\"Result after startswith('Charan'): \", str54.startswith('Charan'))"
   ]
  },
  {
   "cell_type": "markdown",
   "metadata": {},
   "source": [
    "## strip()\n",
    "Defination: The strip() method returns a copy of the string with both leading and trailing characters removed (based on the string argument passed).\n",
    "\n",
    "Syntax of strip() method with Parameters: string.strip([chars])\n",
    "\n",
    "Parameters:\n",
    "1. chars (Optional): This is a string specifying the set of characters to be removed. If omitted or None, the chars argument defaults to removing whitespace. The chars argument is not a prefix or suffix; rather, all combinations of its values are stripped."
   ]
  },
  {
   "cell_type": "code",
   "execution_count": null,
   "metadata": {},
   "outputs": [],
   "source": [
    "# Example 42:\n",
    "# Python program to demonstrate working of strip()\n",
    "str55 = \"               Charan H U               \"\n",
    "print(\"Old String: \", str55)\n",
    "str56 = \"My name is \"+str55.strip()+\" This is My Book\"\n",
    "print(\"New String: \", str56)"
   ]
  },
  {
   "cell_type": "markdown",
   "metadata": {},
   "source": [
    "## swapcase()\n",
    "Defination: The swapcase() method returns a copy of the string with uppercase characters converted to lowercase and vice versa.\n",
    "\n",
    "Syntax of swapcase() method with Parameters: string.swapcase()"
   ]
  },
  {
   "cell_type": "code",
   "execution_count": 59,
   "metadata": {},
   "outputs": [
    {
     "name": "stdout",
     "output_type": "stream",
     "text": [
      "Old String:  My name is Charan H U. This is My Book\n",
      "Result after swapcase():  mY NAME IS cHARAN h u. tHIS IS mY bOOK\n"
     ]
    }
   ],
   "source": [
    "# Example 43:\n",
    "# Python program to demonstrate working of swapcase()\n",
    "str57 = \"My name is Charan H U. This is My Book\"\n",
    "print(\"Old String: \", str57)\n",
    "print(\"Result after swapcase(): \", str57.swapcase())"
   ]
  },
  {
   "cell_type": "markdown",
   "metadata": {},
   "source": [
    "## title()\n",
    "Defination: The title() method returns a titlecased version of the string where words start with an uppercase character and the remaining characters are lowercase.\n",
    "\n",
    "Syntax of title() method with Parameters: string.title()"
   ]
  },
  {
   "cell_type": "code",
   "execution_count": 60,
   "metadata": {},
   "outputs": [
    {
     "name": "stdout",
     "output_type": "stream",
     "text": [
      "Old String:  My name is Charan H U. This is My Book\n",
      "Result after title():  My Name Is Charan H U. This Is My Book\n"
     ]
    }
   ],
   "source": [
    "# Example 44:\n",
    "# Python program to demonstrate working of title()\n",
    "str58 = \"My name is Charan H U. This is My Book\"\n",
    "print(\"Old String: \", str58)\n",
    "print(\"Result after title(): \", str58.title())"
   ]
  },
  {
   "cell_type": "markdown",
   "metadata": {},
   "source": [
    "## translate()\n",
    "Defination: The translate() method returns a copy of the string in which each character has been mapped through the given translation table.\n",
    "\n",
    "Syntax of translate() method with Parameters: string.translate(table, deletechars=\"\")\n",
    "\n",
    "Parameters:\n",
    "1. table: This is the translation table to be used for translating the characters.\n",
    "2. deletechars (Optional): This is a string containing the characters to be deleted."
   ]
  },
  {
   "cell_type": "code",
   "execution_count": 61,
   "metadata": {},
   "outputs": [
    {
     "name": "stdout",
     "output_type": "stream",
     "text": [
      "Old String:  My name is Charan H U. This is My Book\n",
      "Result after translate():  My nbme is Chbrbn H U. This is My Book\n"
     ]
    }
   ],
   "source": [
    "# Example 45:\n",
    "# Python program to demonstrate working of translate()\n",
    "str59 = \"My name is Charan H U. This is My Book\"\n",
    "print(\"Old String: \", str59)\n",
    "print(\"Result after translate(): \", str59.translate({ord('a'): 'b', ord('b'): 'a'}))"
   ]
  },
  {
   "cell_type": "markdown",
   "metadata": {},
   "source": [
    "## upper()\n",
    "Defination: The upper() method returns a copy of the string converted to uppercase.\n",
    "\n",
    "Syntax of upper() method with Parameters: string.upper()"
   ]
  },
  {
   "cell_type": "code",
   "execution_count": 62,
   "metadata": {},
   "outputs": [
    {
     "name": "stdout",
     "output_type": "stream",
     "text": [
      "Old String:  My name is Charan H U. This is My Book\n",
      "Result after upper():  MY NAME IS CHARAN H U. THIS IS MY BOOK\n"
     ]
    }
   ],
   "source": [
    "# Example 46:\n",
    "# Python program to demonstrate working of upper()\n",
    "str60 = \"My name is Charan H U. This is My Book\"\n",
    "print(\"Old String: \", str60)\n",
    "print(\"Result after upper(): \", str60.upper())"
   ]
  },
  {
   "cell_type": "markdown",
   "metadata": {},
   "source": [
    "## zfill()\n",
    "Defination: The zfill() method returns a copy of the string with '0' characters padded to the left.\n",
    "\n",
    "Syntax of zfill() method with Parameters: string.zfill(width)\n",
    "\n",
    "Parameters:\n",
    "1. width: This is the length of the string with the '0' characters padded to the left."
   ]
  },
  {
   "cell_type": "code",
   "execution_count": 63,
   "metadata": {},
   "outputs": [
    {
     "name": "stdout",
     "output_type": "stream",
     "text": [
      "Old String:  My name is Charan H U. This is My Book\n",
      "Result after zfill(50):  000000000000My name is Charan H U. This is My Book\n"
     ]
    }
   ],
   "source": [
    "# Example 47:\n",
    "# Python program to demonstrate working of zfill()\n",
    "str61 = \"My name is Charan H U. This is My Book\"\n",
    "print(\"Old String: \", str61)\n",
    "print(\"Result after zfill(50): \", str61.zfill(50))"
   ]
  }
 ],
 "metadata": {
  "kernelspec": {
   "display_name": "Python 3.10.7 64-bit",
   "language": "python",
   "name": "python3"
  },
  "language_info": {
   "codemirror_mode": {
    "name": "ipython",
    "version": 3
   },
   "file_extension": ".py",
   "mimetype": "text/x-python",
   "name": "python",
   "nbconvert_exporter": "python",
   "pygments_lexer": "ipython3",
   "version": "3.10.7"
  },
  "orig_nbformat": 4,
  "vscode": {
   "interpreter": {
    "hash": "26de051ba29f2982a8de78e945f0abaf191376122a1563185a90213a26c5da77"
   }
  }
 },
 "nbformat": 4,
 "nbformat_minor": 2
}

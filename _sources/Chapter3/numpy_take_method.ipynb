{
 "cells": [
  {
   "cell_type": "markdown",
   "metadata": {},
   "source": [
    "# Numpy take() Method"
   ]
  },
  {
   "cell_type": "markdown",
   "metadata": {},
   "source": [
    "To take elements from a NumPy array at specific indices, we use the take() function of the NumPy library. \n",
    "\n",
    "Syntax: numpy.take(array, indeices, axis, out, mode)\n",
    "\n",
    "Parameters:\n",
    "1. array: Input array\n",
    "2. indices: The indices of the values to extract\n",
    "3. axis: The axis over which to select values. By default, the flattened input array is used.\n",
    "4. out: A location into which the result is stored. If provided, it must have a shape that the indices along axis.\n",
    "5. mode: {‘raise’, ‘wrap’, ‘clip’}, optional, Specifies how out-of-bounds indices will behave.\n",
    "    1. ‘raise’ – raise an error (default)\n",
    "    2. ‘wrap’ – wrap around\n",
    "    3. ‘clip’ – clip to the range\n",
    "6. Returns: The returned array has the same type as array."
   ]
  },
  {
   "cell_type": "markdown",
   "metadata": {},
   "source": [
    "## NumPy take()"
   ]
  },
  {
   "cell_type": "code",
   "execution_count": 1,
   "metadata": {},
   "outputs": [
    {
     "data": {
      "text/plain": [
       "array([4, 3, 6])"
      ]
     },
     "execution_count": 1,
     "metadata": {},
     "output_type": "execute_result"
    }
   ],
   "source": [
    "# Example: NumPy take()\n",
    "import numpy as np\n",
    "a = np.array([4, 3, 5, 7, 6, 8])\n",
    "indices = [0, 1, 4]\n",
    "np.take(a, indices)"
   ]
  },
  {
   "cell_type": "markdown",
   "metadata": {},
   "source": [
    "## NumPy take() along an axis"
   ]
  },
  {
   "cell_type": "code",
   "execution_count": 4,
   "metadata": {},
   "outputs": [
    {
     "data": {
      "text/plain": [
       "array([[3],\n",
       "       [6]])"
      ]
     },
     "execution_count": 4,
     "metadata": {},
     "output_type": "execute_result"
    }
   ],
   "source": [
    "# Example: NumPy take() along an axis 1\n",
    "a = np.array([[4, 3, 5], \n",
    "                [7, 6, 8]])\n",
    "\n",
    "indices = [1]\n",
    "\n",
    "np.take(a, indices, axis=1)"
   ]
  },
  {
   "cell_type": "code",
   "execution_count": 5,
   "metadata": {},
   "outputs": [
    {
     "data": {
      "text/plain": [
       "array([[7, 6, 8]])"
      ]
     },
     "execution_count": 5,
     "metadata": {},
     "output_type": "execute_result"
    }
   ],
   "source": [
    "# Example: NumPy take() along an axis 0\n",
    "a = np.array([[4, 3, 5],\n",
    "                [7, 6, 8]])\n",
    "\n",
    "indices = [1]\n",
    "\n",
    "np.take(a, indices, axis=0)"
   ]
  }
 ],
 "metadata": {
  "kernelspec": {
   "display_name": "Python 3.9.7 ('base')",
   "language": "python",
   "name": "python3"
  },
  "language_info": {
   "codemirror_mode": {
    "name": "ipython",
    "version": 3
   },
   "file_extension": ".py",
   "mimetype": "text/x-python",
   "name": "python",
   "nbconvert_exporter": "python",
   "pygments_lexer": "ipython3",
   "version": "3.9.12"
  },
  "orig_nbformat": 4,
  "vscode": {
   "interpreter": {
    "hash": "ad2bdc8ecc057115af97d19610ffacc2b4e99fae6737bb82f5d7fb13d2f2c186"
   }
  }
 },
 "nbformat": 4,
 "nbformat_minor": 2
}
